{
  "nbformat": 4,
  "nbformat_minor": 0,
  "metadata": {
    "colab": {
      "provenance": [],
      "include_colab_link": true
    },
    "kernelspec": {
      "name": "python3",
      "display_name": "Python 3"
    },
    "language_info": {
      "name": "python"
    },
    "widgets": {
      "application/vnd.jupyter.widget-state+json": {}
    }
  },
  "cells": [
    {
      "cell_type": "markdown",
      "metadata": {
        "id": "view-in-github",
        "colab_type": "text"
      },
      "source": [
        "<a href=\"https://colab.research.google.com/github/ajay-nunugoppula/Multilingual-Translator/blob/main/Sarvam_Translator.ipynb\" target=\"_parent\"><img src=\"https://colab.research.google.com/assets/colab-badge.svg\" alt=\"Open In Colab\"/></a>"
      ]
    },
    {
      "cell_type": "code",
      "execution_count": null,
      "metadata": {
        "colab": {
          "base_uri": "https://localhost:8080/"
        },
        "id": "FU6JApAQRMLA",
        "outputId": "810fff96-a0c7-4ed2-991f-49a94f4b28d7"
      },
      "outputs": [
        {
          "output_type": "stream",
          "name": "stdout",
          "text": [
            "Collecting sarvamai\n",
            "  Downloading sarvamai-0.1.20-py3-none-any.whl.metadata (26 kB)\n",
            "Requirement already satisfied: requests in /usr/local/lib/python3.12/dist-packages (2.32.4)\n",
            "Requirement already satisfied: httpx>=0.21.2 in /usr/local/lib/python3.12/dist-packages (from sarvamai) (0.28.1)\n",
            "Requirement already satisfied: pydantic>=1.9.2 in /usr/local/lib/python3.12/dist-packages (from sarvamai) (2.11.9)\n",
            "Requirement already satisfied: pydantic-core>=2.18.2 in /usr/local/lib/python3.12/dist-packages (from sarvamai) (2.33.2)\n",
            "Requirement already satisfied: typing_extensions>=4.0.0 in /usr/local/lib/python3.12/dist-packages (from sarvamai) (4.15.0)\n",
            "Requirement already satisfied: websockets>=12.0 in /usr/local/lib/python3.12/dist-packages (from sarvamai) (15.0.1)\n",
            "Requirement already satisfied: charset_normalizer<4,>=2 in /usr/local/lib/python3.12/dist-packages (from requests) (3.4.3)\n",
            "Requirement already satisfied: idna<4,>=2.5 in /usr/local/lib/python3.12/dist-packages (from requests) (3.10)\n",
            "Requirement already satisfied: urllib3<3,>=1.21.1 in /usr/local/lib/python3.12/dist-packages (from requests) (2.5.0)\n",
            "Requirement already satisfied: certifi>=2017.4.17 in /usr/local/lib/python3.12/dist-packages (from requests) (2025.8.3)\n",
            "Requirement already satisfied: anyio in /usr/local/lib/python3.12/dist-packages (from httpx>=0.21.2->sarvamai) (4.10.0)\n",
            "Requirement already satisfied: httpcore==1.* in /usr/local/lib/python3.12/dist-packages (from httpx>=0.21.2->sarvamai) (1.0.9)\n",
            "Requirement already satisfied: h11>=0.16 in /usr/local/lib/python3.12/dist-packages (from httpcore==1.*->httpx>=0.21.2->sarvamai) (0.16.0)\n",
            "Requirement already satisfied: annotated-types>=0.6.0 in /usr/local/lib/python3.12/dist-packages (from pydantic>=1.9.2->sarvamai) (0.7.0)\n",
            "Requirement already satisfied: typing-inspection>=0.4.0 in /usr/local/lib/python3.12/dist-packages (from pydantic>=1.9.2->sarvamai) (0.4.1)\n",
            "Requirement already satisfied: sniffio>=1.1 in /usr/local/lib/python3.12/dist-packages (from anyio->httpx>=0.21.2->sarvamai) (1.3.1)\n",
            "Downloading sarvamai-0.1.20-py3-none-any.whl (175 kB)\n",
            "\u001b[2K   \u001b[90m━━━━━━━━━━━━━━━━━━━━━━━━━━━━━━━━━━━━━━━━\u001b[0m \u001b[32m175.6/175.6 kB\u001b[0m \u001b[31m2.3 MB/s\u001b[0m eta \u001b[36m0:00:00\u001b[0m\n",
            "\u001b[?25hInstalling collected packages: sarvamai\n",
            "Successfully installed sarvamai-0.1.20\n"
          ]
        }
      ],
      "source": [
        "!pip install sarvamai requests\n"
      ]
    },
    {
      "cell_type": "code",
      "source": [
        "# Import Sarvam API client\n",
        "from sarvamai import SarvamAI\n",
        "\n",
        "# Set your API Key\n",
        "api_key = \"sk_nnxklbzm_bvsLM7acJQ7v6IgBlPS3anLi\"  # Replace with your actual API key\n",
        "\n",
        "# Instantiate the client\n",
        "client = SarvamAI(api_subscription_key=api_key)\n",
        "\n",
        "def translate_text(text, source_lang, target_lang, mode=\"Modern-Colloquial\", gender=\"Male\"):\n",
        "    response = client.text.translate(\n",
        "        input=text,\n",
        "        source_language_code=source_lang,\n",
        "        target_language_code=target_lang,\n",
        "        speaker_gender=gender\n",
        "    )\n",
        "    return response.translated_text  # use attribute, not dict get()\n",
        "\n",
        "# Example usage\n",
        "input_text = \"Hello, how are you?\"\n",
        "source_language = \"en-IN\"\n",
        "target_language = \"hi-IN\"\n",
        "translated_text = translate_text(input_text, source_language, target_language)\n",
        "print(\"Translated:\", translated_text)\n",
        "\n"
      ],
      "metadata": {
        "colab": {
          "base_uri": "https://localhost:8080/"
        },
        "id": "xRnbcoA6R1XC",
        "outputId": "3c94013e-ac62-4993-90ff-24ddfebdf347"
      },
      "execution_count": null,
      "outputs": [
        {
          "output_type": "stream",
          "name": "stdout",
          "text": [
            "Translated: नमस्ते, आप कैसे हैं?\n"
          ]
        }
      ]
    },
    {
      "cell_type": "code",
      "source": [
        "import ipywidgets as widgets\n",
        "from IPython.display import display\n",
        "\n",
        "text_input = widgets.Text(value='Hello, world!', description='Text:')\n",
        "source_lang = widgets.Dropdown(\n",
        "    options=['en-IN', 'hi-IN', 'ta-IN', 'te-IN', 'bn-IN'], value='en-IN', description='From:'\n",
        ")\n",
        "target_lang = widgets.Dropdown(\n",
        "    options=['hi-IN', 'ta-IN', 'te-IN', 'bn-IN'], value='hi-IN', description='To:'\n",
        ")\n",
        "output_text = widgets.Textarea(value='', description='Translated:', disabled=True)\n",
        "button = widgets.Button(description=\"Translate\")\n",
        "\n",
        "def on_translate_clicked(b):\n",
        "    output_text.value = translate_text(text_input.value, source_lang.value, target_lang.value)\n",
        "\n",
        "button.on_click(on_translate_clicked)\n",
        "\n",
        "display(text_input, source_lang, target_lang, button, output_text)"
      ],
      "metadata": {
        "colab": {
          "base_uri": "https://localhost:8080/",
          "height": 195,
          "referenced_widgets": [
            "aaa4dba159544b76b714d134a639e5f8",
            "fbc20dfef52346dc8ad2876d9acb717c",
            "576da10d67ab4c059ce1c6aa21337828",
            "41ed41e73d4242f9aa0a24a72062a0c8",
            "a532d473ce3440ceba3ba86e5518be68",
            "7d6c811160bf490b9290458dcc090591",
            "90b1ae6633574744b375f815e9bcadd4",
            "6dc059d5a6534d11956dec487d816749",
            "dbfdfd8bfe2e4c56801409f77613cd9f",
            "8159e01e2ab2408fb328ece388f12655",
            "1cba9a83f7b242bb8d2f7809aca32c2d",
            "14dd820db4ba4bfa81ac10cc5044331d",
            "b474d45bc1a74aa9929f16c438b89f37",
            "3db7a4a688434b04adfd3581c69e8909",
            "2eba806242ff41ca8db32277a0b55670"
          ]
        },
        "id": "5TNcxMoMSvp2",
        "outputId": "25c2de94-3be5-4e71-91db-66bcad67bfb0"
      },
      "execution_count": null,
      "outputs": [
        {
          "output_type": "display_data",
          "data": {
            "text/plain": [
              "Text(value='Hello, world!', description='Text:')"
            ],
            "application/vnd.jupyter.widget-view+json": {
              "version_major": 2,
              "version_minor": 0,
              "model_id": "aaa4dba159544b76b714d134a639e5f8"
            }
          },
          "metadata": {}
        },
        {
          "output_type": "display_data",
          "data": {
            "text/plain": [
              "Dropdown(description='From:', options=('en-IN', 'hi-IN', 'ta-IN', 'te-IN', 'bn-IN'), value='en-IN')"
            ],
            "application/vnd.jupyter.widget-view+json": {
              "version_major": 2,
              "version_minor": 0,
              "model_id": "41ed41e73d4242f9aa0a24a72062a0c8"
            }
          },
          "metadata": {}
        },
        {
          "output_type": "display_data",
          "data": {
            "text/plain": [
              "Dropdown(description='To:', options=('hi-IN', 'ta-IN', 'te-IN', 'bn-IN'), value='hi-IN')"
            ],
            "application/vnd.jupyter.widget-view+json": {
              "version_major": 2,
              "version_minor": 0,
              "model_id": "90b1ae6633574744b375f815e9bcadd4"
            }
          },
          "metadata": {}
        },
        {
          "output_type": "display_data",
          "data": {
            "text/plain": [
              "Button(description='Translate', style=ButtonStyle())"
            ],
            "application/vnd.jupyter.widget-view+json": {
              "version_major": 2,
              "version_minor": 0,
              "model_id": "8159e01e2ab2408fb328ece388f12655"
            }
          },
          "metadata": {}
        },
        {
          "output_type": "display_data",
          "data": {
            "text/plain": [
              "Textarea(value='', description='Translated:', disabled=True)"
            ],
            "application/vnd.jupyter.widget-view+json": {
              "version_major": 2,
              "version_minor": 0,
              "model_id": "b474d45bc1a74aa9929f16c438b89f37"
            }
          },
          "metadata": {}
        }
      ]
    }
  ]
}